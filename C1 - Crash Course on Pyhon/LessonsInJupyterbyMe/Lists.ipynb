{
  "metadata": {
    "language_info": {
      "codemirror_mode": {
        "name": "python",
        "version": 3
      },
      "file_extension": ".py",
      "mimetype": "text/x-python",
      "name": "python",
      "nbconvert_exporter": "python",
      "pygments_lexer": "ipython3",
      "version": "3.8"
    },
    "kernelspec": {
      "name": "python",
      "display_name": "Pyolite",
      "language": "python"
    }
  },
  "nbformat_minor": 4,
  "nbformat": 4,
  "cells": [
    {
      "cell_type": "markdown",
      "source": "##Module 7: Lists in Python\n\nEventually in your scripts, you want to develop code that manipulates collections of items like\n - a list of strings representing all the file names in a directory \n - a list of integers representing the size of network packets\n\n\n>You can think of lists as long boxes with the space inside the box divided up into different slots. Each slot can contain a different value.  In Python, we use square brackets to indicate where the list starts and ends\n\n|Index  | 0 | 1 | 2 | 3 | 4 |\n|-------|---|---|---|---|---|\n|Content| 24| 12| -3| 0 | 13|\n\n\n7.1 Inicialitation",
      "metadata": {}
    },
    {
      "cell_type": "code",
      "source": "#Lets declare a list\nx= ['Now','we','are','cooking']\n\n#Let's check Type first\n\ntype(x)",
      "metadata": {
        "trusted": true
      },
      "execution_count": 4,
      "outputs": [
        {
          "execution_count": 4,
          "output_type": "execute_result",
          "data": {
            "text/plain": "list"
          },
          "metadata": {}
        }
      ]
    },
    {
      "cell_type": "markdown",
      "source": "We can see the contents of the whole list using print function",
      "metadata": {}
    },
    {
      "cell_type": "code",
      "source": "print(x)",
      "metadata": {
        "trusted": true
      },
      "execution_count": 1,
      "outputs": [
        {
          "ename": "<class 'NameError'>",
          "evalue": "name 'x' is not defined",
          "traceback": [
            "\u001b[0;31m---------------------------------------------------------------------------\u001b[0m",
            "\u001b[0;31mNameError\u001b[0m                                 Traceback (most recent call last)",
            "Input \u001b[0;32mIn [1]\u001b[0m, in \u001b[0;36m<cell line: 1>\u001b[0;34m()\u001b[0m\n\u001b[0;32m----> 1\u001b[0m \u001b[38;5;28mprint\u001b[39m(\u001b[43mx\u001b[49m)\n",
            "\u001b[0;31mNameError\u001b[0m: name 'x' is not defined"
          ],
          "output_type": "error"
        }
      ]
    },
    {
      "cell_type": "code",
      "source": "# lenght same as Stringd\nprint(len(x))\n",
      "metadata": {
        "trusted": true
      },
      "execution_count": 2,
      "outputs": [
        {
          "ename": "<class 'NameError'>",
          "evalue": "name 'x' is not defined",
          "traceback": [
            "\u001b[0;31m---------------------------------------------------------------------------\u001b[0m",
            "\u001b[0;31mNameError\u001b[0m                                 Traceback (most recent call last)",
            "Input \u001b[0;32mIn [2]\u001b[0m, in \u001b[0;36m<cell line: 2>\u001b[0;34m()\u001b[0m\n\u001b[1;32m      1\u001b[0m \u001b[38;5;66;03m# lenght same as Stringd\u001b[39;00m\n\u001b[0;32m----> 2\u001b[0m \u001b[38;5;28mprint\u001b[39m(\u001b[38;5;28mlen\u001b[39m(\u001b[43mx\u001b[49m))\n",
            "\u001b[0;31mNameError\u001b[0m: name 'x' is not defined"
          ],
          "output_type": "error"
        }
      ]
    },
    {
      "cell_type": "code",
      "source": "#in same as Strings\n# very useful for condition, check or looping\n'are' in x",
      "metadata": {
        "trusted": true
      },
      "execution_count": 3,
      "outputs": [
        {
          "ename": "<class 'NameError'>",
          "evalue": "name 'x' is not defined",
          "traceback": [
            "\u001b[0;31m---------------------------------------------------------------------------\u001b[0m",
            "\u001b[0;31mNameError\u001b[0m                                 Traceback (most recent call last)",
            "Input \u001b[0;32mIn [3]\u001b[0m, in \u001b[0;36m<cell line: 3>\u001b[0;34m()\u001b[0m\n\u001b[1;32m      1\u001b[0m \u001b[38;5;66;03m#in same as Strings\u001b[39;00m\n\u001b[1;32m      2\u001b[0m \u001b[38;5;66;03m# very useful for condition, check or looping\u001b[39;00m\n\u001b[0;32m----> 3\u001b[0m \u001b[38;5;124m'\u001b[39m\u001b[38;5;124mare\u001b[39m\u001b[38;5;124m'\u001b[39m \u001b[38;5;129;01min\u001b[39;00m \u001b[43mx\u001b[49m\n",
            "\u001b[0;31mNameError\u001b[0m: name 'x' is not defined"
          ],
          "output_type": "error"
        }
      ]
    },
    {
      "cell_type": "code",
      "source": "#Indexing also works same as Strings\n\n\ndef printSafe(x,index):\n        if len(x)> (index+1):\n            print('Index',index,'is',x[index])\n        else:\n            print('Sorry index',index,' You'reOut Of Bounds Index')\n\n            \n",
      "metadata": {
        "trusted": true
      },
      "execution_count": 10,
      "outputs": []
    },
    {
      "cell_type": "code",
      "source": "x= ['Now','we','are','cooking']\nprint(x)\nprintSafe(x,1)\nprintSafe(x,2)\nprintSafe(x,7)",
      "metadata": {
        "trusted": true
      },
      "execution_count": 12,
      "outputs": [
        {
          "name": "stdout",
          "text": "['Now', 'we', 'are', 'cooking']\nIndex 1 is we\nIndex 2 is are\nSorry 7  Out Of Bounds Index\n",
          "output_type": "stream"
        }
      ]
    },
    {
      "cell_type": "code",
      "source": "",
      "metadata": {},
      "execution_count": null,
      "outputs": []
    },
    {
      "cell_type": "code",
      "source": "",
      "metadata": {},
      "execution_count": null,
      "outputs": []
    }
  ]
}