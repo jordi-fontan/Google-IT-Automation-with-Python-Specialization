{
  "metadata": {
    "language_info": {
      "codemirror_mode": {
        "name": "python",
        "version": 3
      },
      "file_extension": ".py",
      "mimetype": "text/x-python",
      "name": "python",
      "nbconvert_exporter": "python",
      "pygments_lexer": "ipython3",
      "version": "3.8"
    },
    "kernelspec": {
      "name": "python",
      "display_name": "Pyolite",
      "language": "python"
    }
  },
  "nbformat_minor": 4,
  "nbformat": 4,
  "cells": [
    {
      "cell_type": "markdown",
      "source": "## Module 6: Strings in Python\n\n**String** = Datatype used to represent a piece of text\n\n\n ### 6.1 Inicialitation, empty String, concat and len()",
      "metadata": {
        "tags": []
      }
    },
    {
      "cell_type": "code",
      "source": "# created with simple or double quotes.\n# it doesn't mind as long they match\nname= \"Sasha\"\ncolor= 'Gold'\n\nprint( name   + \" likes \" +color)\nprint ( 'Name: ' + name, \"Color: \", color)\nempty=\"\"\n\n\n# len is not a method, is a global function .\n# print(color.len()) --> AttributeError: 'str' object has no attribute 'len'\n\nprint('Empty Strings have',len(empty),'characters' )\n\n# concat differences in print function\n\nprint(color + \" has \" + str(len(color)) + \" letters\") # cast needed in concatenation\nprint(color + \" has \", len(color), \" letters\") # no cast needed this way\nprint(color + \" has\", len(color), \"letters\") # no spaces needed",
      "metadata": {
        "trusted": true
      },
      "execution_count": 12,
      "outputs": [
        {
          "name": "stdout",
          "text": "Sasha likes Gold\nName: Sasha Color:  Gold\nEmpty Strings have 0  characters\nGold has 4 letters\nGold has  4  letters\nGold has 4 letters\n",
          "output_type": "stream"
        }
      ]
    },
    {
      "cell_type": "code",
      "source": "",
      "metadata": {},
      "execution_count": null,
      "outputs": []
    },
    {
      "cell_type": "code",
      "source": "",
      "metadata": {},
      "execution_count": null,
      "outputs": []
    }
  ]
}
