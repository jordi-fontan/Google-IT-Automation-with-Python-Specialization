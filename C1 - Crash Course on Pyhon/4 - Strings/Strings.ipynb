{
  "metadata": {
    "language_info": {
      "codemirror_mode": {
        "name": "python",
        "version": 3
      },
      "file_extension": ".py",
      "mimetype": "text/x-python",
      "name": "python",
      "nbconvert_exporter": "python",
      "pygments_lexer": "ipython3",
      "version": "3.8"
    },
    "kernelspec": {
      "name": "python",
      "display_name": "Pyolite",
      "language": "python"
    }
  },
  "nbformat_minor": 4,
  "nbformat": 4,
  "cells": [
    {
      "cell_type": "markdown",
      "source": "## Module 6: Strings in Python\n\n**String** = Datatype used to represent a piece of text\n> A lot of the data we interact with will be stored in strings, so it's important to know how to use them.\n> Python has a really powerful String treatment, features like slicing and parsing are reallly useful \n\n\n\n\n ### 6.1 Inicialitation, empty String, concat and len()",
      "metadata": {
        "tags": []
      }
    },
    {
      "cell_type": "code",
      "source": "# created with simple or double quotes.\n# it doesn't mind as long they match\nname= \"Sasha\"\ncolor= 'Gold'\n\nprint( name   + \" likes \" +color)\nprint ( 'Name: ' + name, \"Color: \", color)\nempty=\"\"\n\n\n# len is not a method, is a global function .\n# print(color.len()) --> AttributeError: 'str' object has no attribute 'len'\n\nprint('Empty Strings have',len(empty),'characters' )\n\n# concat differences in print function\n\nprint(color + \" has \" + str(len(color)) + \" letters\") # cast needed in concatenation\nprint(color + \" has \", len(color), \" letters\") # no cast needed this way\nprint(color + \" has\", len(color), \"letters\") # no spaces needed",
      "metadata": {
        "trusted": true
      },
      "execution_count": 5,
      "outputs": [
        {
          "name": "stdout",
          "text": "Sasha likes Gold\nName: Sasha Color:  Gold\nEmpty Strings have 0 characters\nGold has 4 letters\nGold has  4  letters\nGold has 4 letters\n",
          "output_type": "stream"
        }
      ]
    },
    {
      "cell_type": "markdown",
      "source": "### 6.2 Parts of a String\n\nWe've already iterated over a string in loops but what if we need to acces a known part of it?\nWe acces to a position of a string by the so called String Indexing using brakets.\nIndex in a String begins at 0\n\n",
      "metadata": {}
    },
    {
      "cell_type": "code",
      "source": "name= \"Jaylen\"\nprint(name[1])\n# print(name[6]) ---> IndexError: string index out of range\n\n##Negative indexing\n# index starts from the end and counts negative towars start\ntext = \" Random string\"\nprint(text[-2])\n\n\n",
      "metadata": {
        "trusted": true
      },
      "execution_count": 6,
      "outputs": [
        {
          "name": "stdout",
          "text": "a\nn\n",
          "output_type": "stream"
        }
      ]
    },
    {
      "cell_type": "markdown",
      "source": "We can also use brackets and colon to acces substrings or **Slices**\nThe second index is not included.\nIf one pf the indexes is not included it refers to start or end\n",
      "metadata": {}
    },
    {
      "cell_type": "code",
      "source": "color=\"Orange\"\ncolor[1:4]\n\n",
      "metadata": {
        "trusted": true
      },
      "execution_count": 14,
      "outputs": [
        {
          "execution_count": 14,
          "output_type": "execute_result",
          "data": {
            "text/plain": "'ng'"
          },
          "metadata": {}
        }
      ]
    },
    {
      "cell_type": "code",
      "source": "print(color[1:])\nprint(color[:3])\nprint(color[:-1])\nprint(color[-3:])\nprint(color[:])",
      "metadata": {
        "trusted": true
      },
      "execution_count": 13,
      "outputs": [
        {
          "name": "stdout",
          "text": "range\nOra\nOrang\nnge\nOrange\n",
          "output_type": "stream"
        }
      ]
    },
    {
      "cell_type": "code",
      "source": "",
      "metadata": {},
      "execution_count": null,
      "outputs": []
    }
  ]
}
