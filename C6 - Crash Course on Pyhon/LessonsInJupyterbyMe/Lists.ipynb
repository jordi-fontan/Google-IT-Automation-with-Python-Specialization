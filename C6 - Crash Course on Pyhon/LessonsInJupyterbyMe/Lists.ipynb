{
  "metadata": {
    "language_info": {
      "codemirror_mode": {
        "name": "python",
        "version": 3
      },
      "file_extension": ".py",
      "mimetype": "text/x-python",
      "name": "python",
      "nbconvert_exporter": "python",
      "pygments_lexer": "ipython3",
      "version": "3.8"
    },
    "kernelspec": {
      "name": "python",
      "display_name": "Pyolite",
      "language": "python"
    }
  },
  "nbformat_minor": 4,
  "nbformat": 4,
  "cells": [
    {
      "cell_type": "markdown",
      "source": "##Module 7: Lists in Python\n\nEventually in your scripts, you want to develop code that manipulates collections of items like\n - a list of strings representing all the file names in a directory \n - a list of integers representing the size of network packets\n\n\n>You can think of lists as long boxes with the space inside the box divided up into different slots. Each slot can contain a different value.  In Python, we use square brackets to indicate where the list starts and ends\n\n|Index  | 0 | 1 | 2 | 3 | 4 |\n|-------|---|---|---|---|---|\n|Content| 24| 12| -3| 0 | 13|\n\n\n### 7.1 Inicialitation",
      "metadata": {}
    },
    {
      "cell_type": "code",
      "source": "#Lets declare a list\nx= ['Now','we','are','cooking']\n\n#Let's check Type first\n\ntype(x)",
      "metadata": {
        "trusted": true
      },
      "execution_count": 20,
      "outputs": [
        {
          "execution_count": 20,
          "output_type": "execute_result",
          "data": {
            "text/plain": "list"
          },
          "metadata": {}
        }
      ]
    },
    {
      "cell_type": "markdown",
      "source": "We can see the contents of the whole list using print function",
      "metadata": {}
    },
    {
      "cell_type": "code",
      "source": "print(x)",
      "metadata": {
        "trusted": true
      },
      "execution_count": 21,
      "outputs": [
        {
          "name": "stdout",
          "text": "['Now', 'we', 'are', 'cooking']\n",
          "output_type": "stream"
        }
      ]
    },
    {
      "cell_type": "code",
      "source": "# lenght same as String\nprint(len(x))\n",
      "metadata": {
        "trusted": true
      },
      "execution_count": 22,
      "outputs": [
        {
          "name": "stdout",
          "text": "4\n",
          "output_type": "stream"
        }
      ]
    },
    {
      "cell_type": "markdown",
      "source": "### 7.2 Indexing and Slicing",
      "metadata": {}
    },
    {
      "cell_type": "code",
      "source": "#in same as Strings\n# very useful for condition, check or looping\n'are' in x",
      "metadata": {
        "trusted": true
      },
      "execution_count": 23,
      "outputs": [
        {
          "execution_count": 23,
          "output_type": "execute_result",
          "data": {
            "text/plain": "True"
          },
          "metadata": {}
        }
      ]
    },
    {
      "cell_type": "code",
      "source": "#Indexing also works same as Strings\n\n\ndef printSafe(x,index):\n        if len(x)> (index+1):\n            print('Index',index,'is',x[index])\n        else:\n            print('Sorry index',index,\" You're Out Of Bounds !! \")\n\n            \n",
      "metadata": {
        "trusted": true
      },
      "execution_count": 24,
      "outputs": []
    },
    {
      "cell_type": "code",
      "source": "x= ['Now','we','are','cooking']\nprint(x)\nprintSafe(x,1)\nprintSafe(x,2)\nprintSafe(x,7)",
      "metadata": {
        "trusted": true
      },
      "execution_count": 25,
      "outputs": [
        {
          "name": "stdout",
          "text": "['Now', 'we', 'are', 'cooking']\nIndex 1 is we\nIndex 2 is are\nSorry index 7  You're Out Of Bounds !! \n",
          "output_type": "stream"
        }
      ]
    },
    {
      "cell_type": "markdown",
      "source": ">Question: Using the \"split\" string method from the preceding lesson, complete the get_word function to return the {n}th word from a passed sentence. For example, get_word(\"This is a lesson about lists\", 4) should return \"lesson\", which is the 4th word in this sentence. Hint: remember that list indexes start at 0, not 1. ",
      "metadata": {}
    },
    {
      "cell_type": "code",
      "source": "def get_word(sentence, n):\n\t# Only proceed if n is positive \n\tif n > 0:\n\t\twords = sentence.split()\n\t\t# Only proceed if n is not more than the number of words \n\t\tif n <= len(words):\n\t\t\treturn(words[n-1])\n\treturn(\"\")\n\nprint(get_word(\"This is a lesson about lists\", 4)) # Should print: lesson\nprint(get_word(\"This is a lesson about lists\", -4)) # Nothing",
      "metadata": {
        "trusted": true
      },
      "execution_count": 29,
      "outputs": [
        {
          "name": "stdout",
          "text": "lesson\n\n",
          "output_type": "stream"
        }
      ]
    },
    {
      "cell_type": "markdown",
      "source": "### 7.3 Sequences\n\nIn Python, strings and lists are both examples of ***sequences.*** \nThere are other sequences too, and they all share a bunch of operations like \n\n 1. iterating over them using for-loops, \n 2. indexing using the len function to know the length of the sequence, \n 3. using plus to concatenate two sequences and \n 4. using in to verify if the sequence contains an element.",
      "metadata": {}
    },
    {
      "cell_type": "markdown",
      "source": "",
      "metadata": {}
    }
  ]
}
